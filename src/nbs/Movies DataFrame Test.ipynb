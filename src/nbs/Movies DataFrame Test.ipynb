{
 "cells": [
  {
   "cell_type": "code",
   "execution_count": 3,
   "id": "5a0a9f7c-f093-4b1b-88ee-e9a2e672e75c",
   "metadata": {},
   "outputs": [],
   "source": [
    "# Having jupiter comunicating with django\n",
    "import setup_django\n",
    "setup_django.init()"
   ]
  },
  {
   "cell_type": "code",
   "execution_count": 4,
   "id": "4354c28e-0815-45b8-a0d4-3898f6c78df9",
   "metadata": {},
   "outputs": [
    {
     "data": {
      "text/plain": [
       "<PlaylistQuerySet [{'title': 'Ariel', 'release_date': datetime.date(1988, 10, 21), 'rating_avg': Decimal('4.00'), 'rating_count': 1}, {'title': 'game of thrones', 'release_date': None, 'rating_avg': None, 'rating_count': None}, {'title': 'season 1', 'release_date': None, 'rating_avg': None, 'rating_count': None}, {'title': 'season 2', 'release_date': None, 'rating_avg': None, 'rating_count': None}, {'title': 'Judgment Night', 'release_date': datetime.date(1993, 10, 15), 'rating_avg': Decimal('3.25'), 'rating_count': 4}, {'title': 'Star Wars', 'release_date': datetime.date(1977, 5, 25), 'rating_avg': Decimal('2.75'), 'rating_count': 4}, {'title': 'Finding Nemo', 'release_date': datetime.date(2003, 5, 30), 'rating_avg': Decimal('5.00'), 'rating_count': 2}, {'title': 'Forrest Gump', 'release_date': datetime.date(1994, 7, 6), 'rating_avg': None, 'rating_count': None}, {'title': 'American Beauty', 'release_date': datetime.date(1999, 9, 15), 'rating_avg': None, 'rating_count': None}, {'title': 'Citizen Kane', 'release_date': datetime.date(1941, 4, 30), 'rating_avg': None, 'rating_count': None}, {'title': 'Dancer in the Dark', 'release_date': datetime.date(2000, 5, 17), 'rating_avg': None, 'rating_count': None}, {'title': 'The Dark', 'release_date': datetime.date(2006, 1, 26), 'rating_avg': None, 'rating_count': None}, {'title': 'The Fifth Element', 'release_date': datetime.date(1997, 5, 7), 'rating_avg': None, 'rating_count': None}, {'title': 'Metropolis', 'release_date': datetime.date(1927, 1, 10), 'rating_avg': None, 'rating_count': None}, {'title': 'My Life Without Me', 'release_date': datetime.date(2003, 3, 7), 'rating_avg': None, 'rating_count': None}, {'title': 'The Endless Summer', 'release_date': datetime.date(1966, 6, 15), 'rating_avg': None, 'rating_count': None}, {'title': 'Pirates of the Caribbean: The Curse of the Black Pearl', 'release_date': datetime.date(2003, 7, 9), 'rating_avg': Decimal('1.00'), 'rating_count': 1}, {'title': 'Kill Bill: Vol. 1', 'release_date': datetime.date(2003, 10, 10), 'rating_avg': None, 'rating_count': None}, {'title': 'Jarhead', 'release_date': datetime.date(2005, 11, 4), 'rating_avg': None, 'rating_count': None}, {'title': 'Walk on Water', 'release_date': datetime.date(2004, 2, 5), 'rating_avg': None, 'rating_count': None}, '...(remaining elements truncated)...']>"
      ]
     },
     "execution_count": 4,
     "metadata": {},
     "output_type": "execute_result"
    }
   ],
   "source": [
    "from playlists.models import Playlist\n",
    "\n",
    "qs = Playlist.objects.all().values('title', 'release_date', 'rating_avg', 'rating_count')\n",
    "qs"
   ]
  },
  {
   "cell_type": "code",
   "execution_count": 5,
   "id": "53ce7e83-bf55-45b8-8c27-f6e239ff0638",
   "metadata": {},
   "outputs": [
    {
     "data": {
      "text/html": [
       "<div>\n",
       "<style scoped>\n",
       "    .dataframe tbody tr th:only-of-type {\n",
       "        vertical-align: middle;\n",
       "    }\n",
       "\n",
       "    .dataframe tbody tr th {\n",
       "        vertical-align: top;\n",
       "    }\n",
       "\n",
       "    .dataframe thead th {\n",
       "        text-align: right;\n",
       "    }\n",
       "</style>\n",
       "<table border=\"1\" class=\"dataframe\">\n",
       "  <thead>\n",
       "    <tr style=\"text-align: right;\">\n",
       "      <th></th>\n",
       "      <th>title</th>\n",
       "      <th>release_date</th>\n",
       "      <th>rating_avg</th>\n",
       "      <th>rating_count</th>\n",
       "    </tr>\n",
       "  </thead>\n",
       "  <tbody>\n",
       "    <tr>\n",
       "      <th>0</th>\n",
       "      <td>Ariel</td>\n",
       "      <td>1988-10-21</td>\n",
       "      <td>4.00</td>\n",
       "      <td>1.0</td>\n",
       "    </tr>\n",
       "    <tr>\n",
       "      <th>1</th>\n",
       "      <td>game of thrones</td>\n",
       "      <td>None</td>\n",
       "      <td>None</td>\n",
       "      <td>NaN</td>\n",
       "    </tr>\n",
       "    <tr>\n",
       "      <th>2</th>\n",
       "      <td>season 1</td>\n",
       "      <td>None</td>\n",
       "      <td>None</td>\n",
       "      <td>NaN</td>\n",
       "    </tr>\n",
       "    <tr>\n",
       "      <th>3</th>\n",
       "      <td>season 2</td>\n",
       "      <td>None</td>\n",
       "      <td>None</td>\n",
       "      <td>NaN</td>\n",
       "    </tr>\n",
       "    <tr>\n",
       "      <th>4</th>\n",
       "      <td>Judgment Night</td>\n",
       "      <td>1993-10-15</td>\n",
       "      <td>3.25</td>\n",
       "      <td>4.0</td>\n",
       "    </tr>\n",
       "    <tr>\n",
       "      <th>5</th>\n",
       "      <td>Star Wars</td>\n",
       "      <td>1977-05-25</td>\n",
       "      <td>2.75</td>\n",
       "      <td>4.0</td>\n",
       "    </tr>\n",
       "    <tr>\n",
       "      <th>6</th>\n",
       "      <td>Finding Nemo</td>\n",
       "      <td>2003-05-30</td>\n",
       "      <td>5.00</td>\n",
       "      <td>2.0</td>\n",
       "    </tr>\n",
       "    <tr>\n",
       "      <th>7</th>\n",
       "      <td>Forrest Gump</td>\n",
       "      <td>1994-07-06</td>\n",
       "      <td>None</td>\n",
       "      <td>NaN</td>\n",
       "    </tr>\n",
       "    <tr>\n",
       "      <th>8</th>\n",
       "      <td>American Beauty</td>\n",
       "      <td>1999-09-15</td>\n",
       "      <td>None</td>\n",
       "      <td>NaN</td>\n",
       "    </tr>\n",
       "    <tr>\n",
       "      <th>9</th>\n",
       "      <td>Citizen Kane</td>\n",
       "      <td>1941-04-30</td>\n",
       "      <td>None</td>\n",
       "      <td>NaN</td>\n",
       "    </tr>\n",
       "  </tbody>\n",
       "</table>\n",
       "</div>"
      ],
      "text/plain": [
       "             title release_date rating_avg  rating_count\n",
       "0            Ariel   1988-10-21       4.00           1.0\n",
       "1  game of thrones         None       None           NaN\n",
       "2         season 1         None       None           NaN\n",
       "3         season 2         None       None           NaN\n",
       "4   Judgment Night   1993-10-15       3.25           4.0\n",
       "5        Star Wars   1977-05-25       2.75           4.0\n",
       "6     Finding Nemo   2003-05-30       5.00           2.0\n",
       "7     Forrest Gump   1994-07-06       None           NaN\n",
       "8  American Beauty   1999-09-15       None           NaN\n",
       "9     Citizen Kane   1941-04-30       None           NaN"
      ]
     },
     "execution_count": 5,
     "metadata": {},
     "output_type": "execute_result"
    }
   ],
   "source": [
    "import pandas as pd\n",
    "df= pd.DataFrame(qs)\n",
    "df.head(n=10)"
   ]
  },
  {
   "cell_type": "code",
   "execution_count": 6,
   "id": "bd23c5aa-6d31-4841-861b-f8f67785a8f4",
   "metadata": {},
   "outputs": [
    {
     "data": {
      "text/plain": [
       "{'title': 'Ariel',\n",
       " 'release_date': datetime.date(1988, 10, 21),\n",
       " 'rating_avg': Decimal('4.00'),\n",
       " 'rating_count': 1}"
      ]
     },
     "execution_count": 6,
     "metadata": {},
     "output_type": "execute_result"
    }
   ],
   "source": [
    "qs.first()"
   ]
  },
  {
   "cell_type": "code",
   "execution_count": null,
   "id": "74415a7f-0a5f-4b8d-81c8-4c3edce36638",
   "metadata": {},
   "outputs": [],
   "source": [
    "# df.to_csv()"
   ]
  },
  {
   "cell_type": "code",
   "execution_count": null,
   "id": "eaa67f8d-13e0-4045-9dfe-b8f484d17a9d",
   "metadata": {},
   "outputs": [],
   "source": []
  },
  {
   "cell_type": "code",
   "execution_count": null,
   "id": "fe6a61f1-1d14-42c1-90d3-e6505b6ceb0d",
   "metadata": {},
   "outputs": [],
   "source": []
  }
 ],
 "metadata": {
  "kernelspec": {
   "display_name": "Python 3 (ipykernel)",
   "language": "python",
   "name": "python3"
  },
  "language_info": {
   "codemirror_mode": {
    "name": "ipython",
    "version": 3
   },
   "file_extension": ".py",
   "mimetype": "text/x-python",
   "name": "python",
   "nbconvert_exporter": "python",
   "pygments_lexer": "ipython3",
   "version": "3.12.4"
  }
 },
 "nbformat": 4,
 "nbformat_minor": 5
}
