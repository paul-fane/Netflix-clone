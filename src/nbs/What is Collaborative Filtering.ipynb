{
 "cells": [
  {
   "cell_type": "code",
   "execution_count": 1,
   "id": "5a0a9f7c-f093-4b1b-88ee-e9a2e672e75c",
   "metadata": {},
   "outputs": [],
   "source": [
    "import setup_django\n",
    "setup_django.init()"
   ]
  },
  {
   "cell_type": "code",
   "execution_count": 3,
   "id": "1edb198e-03fc-4e86-8d01-43f4c8176c33",
   "metadata": {},
   "outputs": [],
   "source": [
    "import numpy as np\n",
    "import pandas as pd\n",
    "from django.contrib.auth import get_user_model\n",
    "from django.db.models import F, Count, Sum, IntegerField\n",
    "from playlists.models import MovieProxy\n",
    "from ratings.models import Rating\n",
    "import random\n",
    "\n",
    "User = get_user_model()"
   ]
  },
  {
   "cell_type": "code",
   "execution_count": 22,
   "id": "2c449f56-4fb7-4719-b983-de06164e3ace",
   "metadata": {},
   "outputs": [
    {
     "data": {
      "text/plain": [
       "<MovieProxy: The Million Dollar Hotel (2000)>"
      ]
     },
     "execution_count": 22,
     "metadata": {},
     "output_type": "execute_result"
    }
   ],
   "source": [
    "rating_obj = Rating.objects.filter(user__username='admin', value__gte=5).first()\n",
    "rating_obj.content_object"
   ]
  },
  {
   "cell_type": "code",
   "execution_count": 23,
   "id": "59644d18-bc87-45ca-9708-d9dbeed122a0",
   "metadata": {},
   "outputs": [],
   "source": [
    "movie_id = rating_obj.content_object.id\n",
    "value = rating_obj.value\n",
    "user_id = rating_obj.user_id"
   ]
  },
  {
   "cell_type": "code",
   "execution_count": 24,
   "id": "9171dcc8-3d0b-4f4a-85fb-7b7e28257384",
   "metadata": {},
   "outputs": [
    {
     "name": "stdout",
     "output_type": "stream",
     "text": [
      "Movie 318 was rated 5 by 1\n"
     ]
    }
   ],
   "source": [
    "print(f\"Movie {movie_id} was rated {value} by {user_id}\")"
   ]
  },
  {
   "cell_type": "code",
   "execution_count": 25,
   "id": "a0248fea-a9bf-4251-a973-daa3f98341a6",
   "metadata": {},
   "outputs": [],
   "source": [
    "# Other users id by the same value\n",
    "\n",
    "other_user_ids = Rating.objects.filter(\n",
    "        object_id=rating_obj.object_id, \n",
    "        content_type=rating_obj.content_type, \n",
    "        value__gte=rating_obj.value\n",
    ").exclude(user=rating_obj.user).values_list('user_id', flat=True)\n",
    "#print(other_user_ids)\n",
    "\n",
    "# Other user ratings greater then 4\n",
    "highly_rated = Rating.objects.filter(user_id__in=other_user_ids, value__gte=4)"
   ]
  },
  {
   "cell_type": "code",
   "execution_count": 26,
   "id": "e82aee52-dbaa-440b-9ab9-52ee8e12de46",
   "metadata": {},
   "outputs": [],
   "source": [
    "rec_users = []\n",
    "rec_movies = []\n",
    "for rating_obj in highly_rated:\n",
    "    if rating_obj.user not in rec_users:\n",
    "        rec_users.append(rating_obj.user)\n",
    "    object_id = rating_obj.object_id\n",
    "    if object_id not in rec_movies:\n",
    "        rec_movies.append(object_id)"
   ]
  },
  {
   "cell_type": "code",
   "execution_count": 27,
   "id": "0a5473ba-6128-4f32-ac93-b5e9ea520185",
   "metadata": {},
   "outputs": [
    {
     "name": "stdout",
     "output_type": "stream",
     "text": [
      "207 4795\n"
     ]
    }
   ],
   "source": [
    "print(len(rec_users), len(set(rec_movies)))"
   ]
  },
  {
   "cell_type": "code",
   "execution_count": 29,
   "id": "df7e202a-501e-4355-8766-a3b398b20691",
   "metadata": {},
   "outputs": [],
   "source": [
    "# End up beeing a lot of movies!!\n",
    "# Valid for a much smaller dataset"
   ]
  },
  {
   "cell_type": "code",
   "execution_count": 30,
   "id": "650b2870-2467-47a2-8804-0a310644bb23",
   "metadata": {},
   "outputs": [],
   "source": [
    "import numpy as np"
   ]
  },
  {
   "cell_type": "code",
   "execution_count": 31,
   "id": "a63b0321-86eb-4119-b581-3f352623949a",
   "metadata": {},
   "outputs": [
    {
     "name": "stdout",
     "output_type": "stream",
     "text": [
      "User has 3 primary preferences\n",
      "These movies have 5 unique features.\n"
     ]
    }
   ],
   "source": [
    "# Write a list of 2 movies attributes\n",
    "movie_1 = ['sci-fi', 'comedy', 'Stars latest action movie star']\n",
    "movie_2 = ['historical fiction', 'drama', 'Stars latest action movie star']\n",
    "\n",
    "# Write a list of a User's preferences\n",
    "user_a = ['comedy', 'sci-fi', 'Stars latest action movie star']\n",
    "print(f\"User has {len(user_a)} primary preferences\")\n",
    "\n",
    "# Total number of potential features\n",
    "num_unique_features = len(set(movie_1 + movie_2))\n",
    "print(f\"These movies have {num_unique_features} unique features.\")"
   ]
  },
  {
   "cell_type": "code",
   "execution_count": 32,
   "id": "26d40294-bced-4152-9175-03f5e003e6d8",
   "metadata": {},
   "outputs": [],
   "source": [
    "my_preferences = np.array([.98, .85, .75])"
   ]
  },
  {
   "cell_type": "code",
   "execution_count": 33,
   "id": "dc6c12ba-c5ba-4a7d-b45c-ae39b03b13c6",
   "metadata": {},
   "outputs": [],
   "source": [
    "movie_attribute_scores = np.array([.96, .99, .92]) \n",
    "\n",
    "movie_2_attribute_scores = np.array([-.93, -.45, .5])"
   ]
  },
  {
   "cell_type": "code",
   "execution_count": 34,
   "id": "8887b521-252d-48ad-bbe8-f969a71c1016",
   "metadata": {},
   "outputs": [
    {
     "data": {
      "text/plain": [
       "np.float64(2.4723)"
      ]
     },
     "execution_count": 34,
     "metadata": {},
     "output_type": "execute_result"
    }
   ],
   "source": [
    "(my_preferences * movie_attribute_scores).sum() "
   ]
  },
  {
   "cell_type": "code",
   "execution_count": 35,
   "id": "435103be-21bd-42c5-8cd2-b34f3efd9e78",
   "metadata": {},
   "outputs": [
    {
     "data": {
      "text/plain": [
       "np.float64(-0.9189)"
      ]
     },
     "execution_count": 35,
     "metadata": {},
     "output_type": "execute_result"
    }
   ],
   "source": [
    "(my_preferences * movie_2_attribute_scores).sum()"
   ]
  },
  {
   "cell_type": "code",
   "execution_count": 36,
   "id": "819c03f6-ca33-49d2-8058-fc8718387982",
   "metadata": {},
   "outputs": [
    {
     "name": "stdout",
     "output_type": "stream",
     "text": [
      "3 -3\n"
     ]
    }
   ],
   "source": [
    "max_score = (np.array([1,1,1]) * np.array([1,1,1])).sum()\n",
    "min_score = (np.array([1,1,1]) * np.array([-1,-1,-1])).sum()\n",
    "print(max_score, min_score)"
   ]
  },
  {
   "cell_type": "code",
   "execution_count": 38,
   "id": "c06f28d5-3ffa-4198-8a96-06e5af170b78",
   "metadata": {},
   "outputs": [],
   "source": [
    "ids = MovieProxy.objects.all().popular()[:15]\n",
    "most_active_users = Rating.objects.all().annotate(\n",
    "    user_count=Count(\"user\")\n",
    ").order_by('-user_count').values_list('user_id')[:5_000]\n",
    "\n",
    "ratings_qs =  Rating.objects.filter(\n",
    "    object_id__in=ids, \n",
    "    user_id__in=most_active_users, \n",
    "    active=True, value__gte=0\n",
    ").annotate(movie=F(\"object_id\")).values('user', 'value', 'movie')\n",
    "\n",
    "df = pd.DataFrame(ratings_qs)"
   ]
  },
  {
   "cell_type": "code",
   "execution_count": 39,
   "id": "a8a4c3ff-4398-44a4-8a6a-8df232b61b2a",
   "metadata": {},
   "outputs": [
    {
     "data": {
      "text/html": [
       "<div>\n",
       "<style scoped>\n",
       "    .dataframe tbody tr th:only-of-type {\n",
       "        vertical-align: middle;\n",
       "    }\n",
       "\n",
       "    .dataframe tbody tr th {\n",
       "        vertical-align: top;\n",
       "    }\n",
       "\n",
       "    .dataframe thead th {\n",
       "        text-align: right;\n",
       "    }\n",
       "</style>\n",
       "<table border=\"1\" class=\"dataframe\">\n",
       "  <thead>\n",
       "    <tr style=\"text-align: right;\">\n",
       "      <th>movie</th>\n",
       "      <th>1</th>\n",
       "      <th>50</th>\n",
       "      <th>260</th>\n",
       "      <th>296</th>\n",
       "      <th>318</th>\n",
       "      <th>480</th>\n",
       "      <th>527</th>\n",
       "      <th>589</th>\n",
       "      <th>593</th>\n",
       "      <th>608</th>\n",
       "      <th>1196</th>\n",
       "      <th>1198</th>\n",
       "      <th>1210</th>\n",
       "      <th>1270</th>\n",
       "      <th>2571</th>\n",
       "    </tr>\n",
       "    <tr>\n",
       "      <th>user</th>\n",
       "      <th></th>\n",
       "      <th></th>\n",
       "      <th></th>\n",
       "      <th></th>\n",
       "      <th></th>\n",
       "      <th></th>\n",
       "      <th></th>\n",
       "      <th></th>\n",
       "      <th></th>\n",
       "      <th></th>\n",
       "      <th></th>\n",
       "      <th></th>\n",
       "      <th></th>\n",
       "      <th></th>\n",
       "      <th></th>\n",
       "    </tr>\n",
       "  </thead>\n",
       "  <tbody>\n",
       "    <tr>\n",
       "      <th>1</th>\n",
       "      <td></td>\n",
       "      <td></td>\n",
       "      <td></td>\n",
       "      <td></td>\n",
       "      <td>5.0</td>\n",
       "      <td></td>\n",
       "      <td></td>\n",
       "      <td></td>\n",
       "      <td></td>\n",
       "      <td></td>\n",
       "      <td></td>\n",
       "      <td></td>\n",
       "      <td></td>\n",
       "      <td></td>\n",
       "      <td></td>\n",
       "    </tr>\n",
       "    <tr>\n",
       "      <th>2</th>\n",
       "      <td></td>\n",
       "      <td>4.0</td>\n",
       "      <td></td>\n",
       "      <td>4.0</td>\n",
       "      <td></td>\n",
       "      <td>4.0</td>\n",
       "      <td>4.0</td>\n",
       "      <td>5.0</td>\n",
       "      <td>3.0</td>\n",
       "      <td></td>\n",
       "      <td></td>\n",
       "      <td></td>\n",
       "      <td></td>\n",
       "      <td></td>\n",
       "      <td></td>\n",
       "    </tr>\n",
       "    <tr>\n",
       "      <th>3</th>\n",
       "      <td></td>\n",
       "      <td></td>\n",
       "      <td></td>\n",
       "      <td>5.0</td>\n",
       "      <td>5.0</td>\n",
       "      <td></td>\n",
       "      <td>3.0</td>\n",
       "      <td></td>\n",
       "      <td>3.0</td>\n",
       "      <td></td>\n",
       "      <td></td>\n",
       "      <td></td>\n",
       "      <td>3.0</td>\n",
       "      <td></td>\n",
       "      <td></td>\n",
       "    </tr>\n",
       "    <tr>\n",
       "      <th>4</th>\n",
       "      <td></td>\n",
       "      <td></td>\n",
       "      <td>5.0</td>\n",
       "      <td>5.0</td>\n",
       "      <td></td>\n",
       "      <td>5.0</td>\n",
       "      <td></td>\n",
       "      <td>5.0</td>\n",
       "      <td></td>\n",
       "      <td></td>\n",
       "      <td>5.0</td>\n",
       "      <td>5.0</td>\n",
       "      <td>5.0</td>\n",
       "      <td>5.0</td>\n",
       "      <td></td>\n",
       "    </tr>\n",
       "    <tr>\n",
       "      <th>6</th>\n",
       "      <td></td>\n",
       "      <td></td>\n",
       "      <td></td>\n",
       "      <td></td>\n",
       "      <td></td>\n",
       "      <td></td>\n",
       "      <td></td>\n",
       "      <td></td>\n",
       "      <td></td>\n",
       "      <td></td>\n",
       "      <td></td>\n",
       "      <td></td>\n",
       "      <td></td>\n",
       "      <td></td>\n",
       "      <td>1.0</td>\n",
       "    </tr>\n",
       "    <tr>\n",
       "      <th>7</th>\n",
       "      <td>3.0</td>\n",
       "      <td></td>\n",
       "      <td>5.0</td>\n",
       "      <td></td>\n",
       "      <td>5.0</td>\n",
       "      <td>4.0</td>\n",
       "      <td></td>\n",
       "      <td>3.0</td>\n",
       "      <td></td>\n",
       "      <td></td>\n",
       "      <td>5.0</td>\n",
       "      <td>5.0</td>\n",
       "      <td>5.0</td>\n",
       "      <td>3.0</td>\n",
       "      <td></td>\n",
       "    </tr>\n",
       "    <tr>\n",
       "      <th>8</th>\n",
       "      <td></td>\n",
       "      <td>5.0</td>\n",
       "      <td>4.0</td>\n",
       "      <td>4.0</td>\n",
       "      <td>5.0</td>\n",
       "      <td></td>\n",
       "      <td>5.0</td>\n",
       "      <td>4.0</td>\n",
       "      <td>5.0</td>\n",
       "      <td></td>\n",
       "      <td>4.0</td>\n",
       "      <td>4.0</td>\n",
       "      <td>4.0</td>\n",
       "      <td>4.0</td>\n",
       "      <td>5.0</td>\n",
       "    </tr>\n",
       "    <tr>\n",
       "      <th>9</th>\n",
       "      <td>4.0</td>\n",
       "      <td></td>\n",
       "      <td></td>\n",
       "      <td></td>\n",
       "      <td>4.0</td>\n",
       "      <td></td>\n",
       "      <td>5.0</td>\n",
       "      <td></td>\n",
       "      <td>4.0</td>\n",
       "      <td>5.0</td>\n",
       "      <td></td>\n",
       "      <td></td>\n",
       "      <td></td>\n",
       "      <td></td>\n",
       "      <td>5.0</td>\n",
       "    </tr>\n",
       "    <tr>\n",
       "      <th>10</th>\n",
       "      <td></td>\n",
       "      <td>5.0</td>\n",
       "      <td></td>\n",
       "      <td></td>\n",
       "      <td>4.0</td>\n",
       "      <td></td>\n",
       "      <td></td>\n",
       "      <td></td>\n",
       "      <td></td>\n",
       "      <td></td>\n",
       "      <td>4.0</td>\n",
       "      <td>4.0</td>\n",
       "      <td>4.0</td>\n",
       "      <td></td>\n",
       "      <td>5.0</td>\n",
       "    </tr>\n",
       "    <tr>\n",
       "      <th>11</th>\n",
       "      <td></td>\n",
       "      <td>5.0</td>\n",
       "      <td></td>\n",
       "      <td>5.0</td>\n",
       "      <td></td>\n",
       "      <td></td>\n",
       "      <td></td>\n",
       "      <td></td>\n",
       "      <td></td>\n",
       "      <td></td>\n",
       "      <td></td>\n",
       "      <td></td>\n",
       "      <td></td>\n",
       "      <td></td>\n",
       "      <td></td>\n",
       "    </tr>\n",
       "    <tr>\n",
       "      <th>12</th>\n",
       "      <td></td>\n",
       "      <td></td>\n",
       "      <td></td>\n",
       "      <td></td>\n",
       "      <td></td>\n",
       "      <td></td>\n",
       "      <td></td>\n",
       "      <td></td>\n",
       "      <td></td>\n",
       "      <td>2.0</td>\n",
       "      <td></td>\n",
       "      <td></td>\n",
       "      <td></td>\n",
       "      <td></td>\n",
       "      <td></td>\n",
       "    </tr>\n",
       "    <tr>\n",
       "      <th>13</th>\n",
       "      <td>5.0</td>\n",
       "      <td></td>\n",
       "      <td></td>\n",
       "      <td>4.0</td>\n",
       "      <td>5.0</td>\n",
       "      <td>3.0</td>\n",
       "      <td>4.0</td>\n",
       "      <td></td>\n",
       "      <td></td>\n",
       "      <td></td>\n",
       "      <td></td>\n",
       "      <td></td>\n",
       "      <td></td>\n",
       "      <td></td>\n",
       "      <td>3.0</td>\n",
       "    </tr>\n",
       "    <tr>\n",
       "      <th>14</th>\n",
       "      <td></td>\n",
       "      <td></td>\n",
       "      <td></td>\n",
       "      <td></td>\n",
       "      <td></td>\n",
       "      <td></td>\n",
       "      <td></td>\n",
       "      <td></td>\n",
       "      <td></td>\n",
       "      <td></td>\n",
       "      <td>4.0</td>\n",
       "      <td></td>\n",
       "      <td></td>\n",
       "      <td></td>\n",
       "      <td></td>\n",
       "    </tr>\n",
       "    <tr>\n",
       "      <th>15</th>\n",
       "      <td>2.0</td>\n",
       "      <td>5.0</td>\n",
       "      <td>5.0</td>\n",
       "      <td>5.0</td>\n",
       "      <td>2.0</td>\n",
       "      <td>3.0</td>\n",
       "      <td>4.0</td>\n",
       "      <td>4.0</td>\n",
       "      <td>5.0</td>\n",
       "      <td>5.0</td>\n",
       "      <td>5.0</td>\n",
       "      <td>4.0</td>\n",
       "      <td>5.0</td>\n",
       "      <td>5.0</td>\n",
       "      <td>5.0</td>\n",
       "    </tr>\n",
       "    <tr>\n",
       "      <th>16</th>\n",
       "      <td></td>\n",
       "      <td>5.0</td>\n",
       "      <td></td>\n",
       "      <td></td>\n",
       "      <td>4.0</td>\n",
       "      <td></td>\n",
       "      <td>4.0</td>\n",
       "      <td></td>\n",
       "      <td></td>\n",
       "      <td></td>\n",
       "      <td></td>\n",
       "      <td></td>\n",
       "      <td></td>\n",
       "      <td></td>\n",
       "      <td></td>\n",
       "    </tr>\n",
       "  </tbody>\n",
       "</table>\n",
       "</div>"
      ],
      "text/plain": [
       "movie 1    50   260  296  318  480  527  589  593  608  1196 1198 1210 1270  \\\n",
       "user                                                                          \n",
       "1                          5.0                                                \n",
       "2           4.0       4.0       4.0  4.0  5.0  3.0                            \n",
       "3                     5.0  5.0       3.0       3.0                 3.0        \n",
       "4                5.0  5.0       5.0       5.0            5.0  5.0  5.0  5.0   \n",
       "6                                                                             \n",
       "7      3.0       5.0       5.0  4.0       3.0            5.0  5.0  5.0  3.0   \n",
       "8           5.0  4.0  4.0  5.0       5.0  4.0  5.0       4.0  4.0  4.0  4.0   \n",
       "9      4.0                 4.0       5.0       4.0  5.0                       \n",
       "10          5.0            4.0                           4.0  4.0  4.0        \n",
       "11          5.0       5.0                                                     \n",
       "12                                                  2.0                       \n",
       "13     5.0            4.0  5.0  3.0  4.0                                      \n",
       "14                                                       4.0                  \n",
       "15     2.0  5.0  5.0  5.0  2.0  3.0  4.0  4.0  5.0  5.0  5.0  4.0  5.0  5.0   \n",
       "16          5.0            4.0       4.0                                      \n",
       "\n",
       "movie 2571  \n",
       "user        \n",
       "1           \n",
       "2           \n",
       "3           \n",
       "4           \n",
       "6      1.0  \n",
       "7           \n",
       "8      5.0  \n",
       "9      5.0  \n",
       "10     5.0  \n",
       "11          \n",
       "12          \n",
       "13     3.0  \n",
       "14          \n",
       "15     5.0  \n",
       "16          "
      ]
     },
     "execution_count": 39,
     "metadata": {},
     "output_type": "execute_result"
    }
   ],
   "source": [
    "df.pivot_table(index='user', columns=['movie'], values='value', fill_value='')[:15]"
   ]
  },
  {
   "cell_type": "code",
   "execution_count": 42,
   "id": "ed703de0-fa5e-4655-b6cf-92566eba5ce0",
   "metadata": {},
   "outputs": [
    {
     "data": {
      "text/plain": [
       "np.int64(5)"
      ]
     },
     "execution_count": 42,
     "metadata": {},
     "output_type": "execute_result"
    }
   ],
   "source": [
    "movie_1 = np.array([1, 1, 1, 1, 1])\n",
    "user_1 = np.array([1, 1, 1, 1, 1])\n",
    "(user_1 * movie_1).sum()\n"
   ]
  },
  {
   "cell_type": "code",
   "execution_count": null,
   "id": "06b3630f-4732-400d-8352-301e5a13f0fd",
   "metadata": {},
   "outputs": [],
   "source": []
  }
 ],
 "metadata": {
  "kernelspec": {
   "display_name": "Python 3 (ipykernel)",
   "language": "python",
   "name": "python3"
  },
  "language_info": {
   "codemirror_mode": {
    "name": "ipython",
    "version": 3
   },
   "file_extension": ".py",
   "mimetype": "text/x-python",
   "name": "python",
   "nbconvert_exporter": "python",
   "pygments_lexer": "ipython3",
   "version": "3.12.4"
  }
 },
 "nbformat": 4,
 "nbformat_minor": 5
}
