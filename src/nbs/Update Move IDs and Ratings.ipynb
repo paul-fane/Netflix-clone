{
 "cells": [
  {
   "cell_type": "code",
   "execution_count": 1,
   "id": "5a0a9f7c-f093-4b1b-88ee-e9a2e672e75c",
   "metadata": {},
   "outputs": [],
   "source": [
    "# Having jupiter comunicating with django\n",
    "import setup_django\n",
    "setup_django.init()"
   ]
  },
  {
   "cell_type": "code",
   "execution_count": 8,
   "id": "1baef0ea-1073-416d-af3e-3f23c24babbb",
   "metadata": {},
   "outputs": [
    {
     "data": {
      "text/plain": [
       "True"
      ]
     },
     "execution_count": 8,
     "metadata": {},
     "output_type": "execute_result"
    }
   ],
   "source": [
    "import pandas as pd\n",
    "from django.conf import settings\n",
    "from playlists.models import MovieProxy\n",
    "from ratings.models import Rating\n",
    "\n",
    "\n",
    "LINKS_SMALL_CSV = settings.DATA_DIR / 'links_small.csv'\n",
    "LINKS_SMALL_CSV.exists()"
   ]
  },
  {
   "cell_type": "code",
   "execution_count": 73,
   "id": "c1c47186-1271-4f96-a731-280883cf99ba",
   "metadata": {},
   "outputs": [],
   "source": [
    "qs = Rating.objects.all()\n",
    "missing_movie_ids = []\n",
    "for instance in qs:\n",
    "    if instance.content_object is None:\n",
    "        missing_movie_ids.append(instance.object_id)\n",
    "\n",
    "        \n",
    "_total = len(missing_movie_ids)\n",
    "total_missing = list(set(missing_movie_ids))\n"
   ]
  },
  {
   "cell_type": "code",
   "execution_count": 74,
   "id": "3c84fefe-da11-4ef7-a06c-996b57d810aa",
   "metadata": {},
   "outputs": [
    {
     "name": "stdout",
     "output_type": "stream",
     "text": [
      "272 5350 100004\n"
     ]
    }
   ],
   "source": [
    "print(len(total_missing), _total, qs.count())"
   ]
  },
  {
   "cell_type": "code",
   "execution_count": 58,
   "id": "c0a000a2-cbdc-4166-9613-7d999e925870",
   "metadata": {},
   "outputs": [
    {
     "data": {
      "text/html": [
       "<div>\n",
       "<style scoped>\n",
       "    .dataframe tbody tr th:only-of-type {\n",
       "        vertical-align: middle;\n",
       "    }\n",
       "\n",
       "    .dataframe tbody tr th {\n",
       "        vertical-align: top;\n",
       "    }\n",
       "\n",
       "    .dataframe thead th {\n",
       "        text-align: right;\n",
       "    }\n",
       "</style>\n",
       "<table border=\"1\" class=\"dataframe\">\n",
       "  <thead>\n",
       "    <tr style=\"text-align: right;\">\n",
       "      <th></th>\n",
       "      <th>movieId</th>\n",
       "      <th>imdbId</th>\n",
       "      <th>tmdbId</th>\n",
       "    </tr>\n",
       "  </thead>\n",
       "  <tbody>\n",
       "    <tr>\n",
       "      <th>0</th>\n",
       "      <td>1</td>\n",
       "      <td>114709</td>\n",
       "      <td>862.0</td>\n",
       "    </tr>\n",
       "    <tr>\n",
       "      <th>1</th>\n",
       "      <td>2</td>\n",
       "      <td>113497</td>\n",
       "      <td>8844.0</td>\n",
       "    </tr>\n",
       "    <tr>\n",
       "      <th>2</th>\n",
       "      <td>3</td>\n",
       "      <td>113228</td>\n",
       "      <td>15602.0</td>\n",
       "    </tr>\n",
       "    <tr>\n",
       "      <th>3</th>\n",
       "      <td>4</td>\n",
       "      <td>114885</td>\n",
       "      <td>31357.0</td>\n",
       "    </tr>\n",
       "    <tr>\n",
       "      <th>4</th>\n",
       "      <td>5</td>\n",
       "      <td>113041</td>\n",
       "      <td>11862.0</td>\n",
       "    </tr>\n",
       "  </tbody>\n",
       "</table>\n",
       "</div>"
      ],
      "text/plain": [
       "   movieId  imdbId   tmdbId\n",
       "0        1  114709    862.0\n",
       "1        2  113497   8844.0\n",
       "2        3  113228  15602.0\n",
       "3        4  114885  31357.0\n",
       "4        5  113041  11862.0"
      ]
     },
     "execution_count": 58,
     "metadata": {},
     "output_type": "execute_result"
    }
   ],
   "source": [
    "links_df = pd.read_csv(LINKS_SMALL_CSV)\n",
    "links_df.head()"
   ]
  },
  {
   "cell_type": "code",
   "execution_count": 59,
   "id": "ed84a843-9561-4206-899a-ca00e0d19cde",
   "metadata": {},
   "outputs": [
    {
     "data": {
      "text/html": [
       "<div>\n",
       "<style scoped>\n",
       "    .dataframe tbody tr th:only-of-type {\n",
       "        vertical-align: middle;\n",
       "    }\n",
       "\n",
       "    .dataframe tbody tr th {\n",
       "        vertical-align: top;\n",
       "    }\n",
       "\n",
       "    .dataframe thead th {\n",
       "        text-align: right;\n",
       "    }\n",
       "</style>\n",
       "<table border=\"1\" class=\"dataframe\">\n",
       "  <thead>\n",
       "    <tr style=\"text-align: right;\">\n",
       "      <th></th>\n",
       "      <th>movieId</th>\n",
       "      <th>imdbId</th>\n",
       "      <th>tmdbId</th>\n",
       "    </tr>\n",
       "  </thead>\n",
       "  <tbody>\n",
       "    <tr>\n",
       "      <th>1</th>\n",
       "      <td>2</td>\n",
       "      <td>113497</td>\n",
       "      <td>8844.0</td>\n",
       "    </tr>\n",
       "    <tr>\n",
       "      <th>11</th>\n",
       "      <td>12</td>\n",
       "      <td>112896</td>\n",
       "      <td>12110.0</td>\n",
       "    </tr>\n",
       "    <tr>\n",
       "      <th>12</th>\n",
       "      <td>13</td>\n",
       "      <td>112453</td>\n",
       "      <td>21032.0</td>\n",
       "    </tr>\n",
       "    <tr>\n",
       "      <th>13</th>\n",
       "      <td>14</td>\n",
       "      <td>113987</td>\n",
       "      <td>10858.0</td>\n",
       "    </tr>\n",
       "    <tr>\n",
       "      <th>15</th>\n",
       "      <td>16</td>\n",
       "      <td>112641</td>\n",
       "      <td>524.0</td>\n",
       "    </tr>\n",
       "  </tbody>\n",
       "</table>\n",
       "</div>"
      ],
      "text/plain": [
       "    movieId  imdbId   tmdbId\n",
       "1         2  113497   8844.0\n",
       "11       12  112896  12110.0\n",
       "12       13  112453  21032.0\n",
       "13       14  113987  10858.0\n",
       "15       16  112641    524.0"
      ]
     },
     "execution_count": 59,
     "metadata": {},
     "output_type": "execute_result"
    }
   ],
   "source": [
    "ms_df = links_df.copy()[links_df.movieId.isin(total_missing)]\n",
    "ms_df.head()"
   ]
  },
  {
   "cell_type": "code",
   "execution_count": 60,
   "id": "c7ff3537-ad60-45f6-bf70-f46f193b9acb",
   "metadata": {},
   "outputs": [
    {
     "data": {
      "text/plain": [
       "True"
      ]
     },
     "execution_count": 60,
     "metadata": {},
     "output_type": "execute_result"
    }
   ],
   "source": [
    "ms_df.shape[0] == len(total_missing)"
   ]
  },
  {
   "cell_type": "code",
   "execution_count": 61,
   "id": "ab94546c-84ff-4b5c-bf20-d8590dd91d22",
   "metadata": {},
   "outputs": [],
   "source": [
    "def enrich_imdb_col(val):\n",
    "    val = str(val)\n",
    "    if len(val) == 7:\n",
    "        val = f\"tt{val}\"\n",
    "        return val\n",
    "    if len(val) == 6:\n",
    "        val = f\"tt0{val}\"\n",
    "        return val\n",
    "    if len(val) == 5:\n",
    "        val = f\"tt00{val}\"\n",
    "        return val\n",
    "    return val"
   ]
  },
  {
   "cell_type": "code",
   "execution_count": 62,
   "id": "8f4ed49c-4d17-4a32-a93c-73f35c94e633",
   "metadata": {},
   "outputs": [
    {
     "data": {
      "text/html": [
       "<div>\n",
       "<style scoped>\n",
       "    .dataframe tbody tr th:only-of-type {\n",
       "        vertical-align: middle;\n",
       "    }\n",
       "\n",
       "    .dataframe tbody tr th {\n",
       "        vertical-align: top;\n",
       "    }\n",
       "\n",
       "    .dataframe thead th {\n",
       "        text-align: right;\n",
       "    }\n",
       "</style>\n",
       "<table border=\"1\" class=\"dataframe\">\n",
       "  <thead>\n",
       "    <tr style=\"text-align: right;\">\n",
       "      <th></th>\n",
       "      <th>movieId</th>\n",
       "      <th>imdbId</th>\n",
       "      <th>tmdbId</th>\n",
       "      <th>tt</th>\n",
       "    </tr>\n",
       "  </thead>\n",
       "  <tbody>\n",
       "    <tr>\n",
       "      <th>1</th>\n",
       "      <td>2</td>\n",
       "      <td>113497</td>\n",
       "      <td>8844.0</td>\n",
       "      <td>tt0113497</td>\n",
       "    </tr>\n",
       "    <tr>\n",
       "      <th>11</th>\n",
       "      <td>12</td>\n",
       "      <td>112896</td>\n",
       "      <td>12110.0</td>\n",
       "      <td>tt0112896</td>\n",
       "    </tr>\n",
       "    <tr>\n",
       "      <th>12</th>\n",
       "      <td>13</td>\n",
       "      <td>112453</td>\n",
       "      <td>21032.0</td>\n",
       "      <td>tt0112453</td>\n",
       "    </tr>\n",
       "    <tr>\n",
       "      <th>13</th>\n",
       "      <td>14</td>\n",
       "      <td>113987</td>\n",
       "      <td>10858.0</td>\n",
       "      <td>tt0113987</td>\n",
       "    </tr>\n",
       "    <tr>\n",
       "      <th>15</th>\n",
       "      <td>16</td>\n",
       "      <td>112641</td>\n",
       "      <td>524.0</td>\n",
       "      <td>tt0112641</td>\n",
       "    </tr>\n",
       "  </tbody>\n",
       "</table>\n",
       "</div>"
      ],
      "text/plain": [
       "    movieId  imdbId   tmdbId         tt\n",
       "1         2  113497   8844.0  tt0113497\n",
       "11       12  112896  12110.0  tt0112896\n",
       "12       13  112453  21032.0  tt0112453\n",
       "13       14  113987  10858.0  tt0113987\n",
       "15       16  112641    524.0  tt0112641"
      ]
     },
     "execution_count": 62,
     "metadata": {},
     "output_type": "execute_result"
    }
   ],
   "source": [
    "ms_df['tt'] = ms_df['imdbId'].apply(enrich_imdb_col)\n",
    "# ms_df.to_csv('')\n",
    "ms_df.head()"
   ]
  },
  {
   "cell_type": "code",
   "execution_count": 63,
   "id": "5e0e0d87-97f5-4466-b464-0909e1cc7c01",
   "metadata": {},
   "outputs": [
    {
     "data": {
      "text/plain": [
       "True"
      ]
     },
     "execution_count": 63,
     "metadata": {},
     "output_type": "execute_result"
    }
   ],
   "source": [
    "MOVIES_CSV = settings.DATA_DIR / 'movies_metadata.csv'\n",
    "MOVIES_CSV.exists()"
   ]
  },
  {
   "cell_type": "code",
   "execution_count": 64,
   "id": "ad52ae7d-f425-4e2c-971d-c87b7c8caf06",
   "metadata": {},
   "outputs": [
    {
     "data": {
      "text/html": [
       "<div>\n",
       "<style scoped>\n",
       "    .dataframe tbody tr th:only-of-type {\n",
       "        vertical-align: middle;\n",
       "    }\n",
       "\n",
       "    .dataframe tbody tr th {\n",
       "        vertical-align: top;\n",
       "    }\n",
       "\n",
       "    .dataframe thead th {\n",
       "        text-align: right;\n",
       "    }\n",
       "</style>\n",
       "<table border=\"1\" class=\"dataframe\">\n",
       "  <thead>\n",
       "    <tr style=\"text-align: right;\">\n",
       "      <th></th>\n",
       "      <th>imdb_id</th>\n",
       "      <th>overview</th>\n",
       "      <th>release_date</th>\n",
       "      <th>title</th>\n",
       "    </tr>\n",
       "  </thead>\n",
       "  <tbody>\n",
       "    <tr>\n",
       "      <th>0</th>\n",
       "      <td>tt0114709</td>\n",
       "      <td>Led by Woody, Andy's toys live happily in his ...</td>\n",
       "      <td>1995-10-30</td>\n",
       "      <td>Toy Story</td>\n",
       "    </tr>\n",
       "    <tr>\n",
       "      <th>1</th>\n",
       "      <td>tt0113497</td>\n",
       "      <td>When siblings Judy and Peter discover an encha...</td>\n",
       "      <td>1995-12-15</td>\n",
       "      <td>Jumanji</td>\n",
       "    </tr>\n",
       "    <tr>\n",
       "      <th>2</th>\n",
       "      <td>tt0113228</td>\n",
       "      <td>A family wedding reignites the ancient feud be...</td>\n",
       "      <td>1995-12-22</td>\n",
       "      <td>Grumpier Old Men</td>\n",
       "    </tr>\n",
       "    <tr>\n",
       "      <th>3</th>\n",
       "      <td>tt0114885</td>\n",
       "      <td>Cheated on, mistreated and stepped on, the wom...</td>\n",
       "      <td>1995-12-22</td>\n",
       "      <td>Waiting to Exhale</td>\n",
       "    </tr>\n",
       "    <tr>\n",
       "      <th>4</th>\n",
       "      <td>tt0113041</td>\n",
       "      <td>Just when George Banks has recovered from his ...</td>\n",
       "      <td>1995-02-10</td>\n",
       "      <td>Father of the Bride Part II</td>\n",
       "    </tr>\n",
       "  </tbody>\n",
       "</table>\n",
       "</div>"
      ],
      "text/plain": [
       "     imdb_id                                           overview release_date  \\\n",
       "0  tt0114709  Led by Woody, Andy's toys live happily in his ...   1995-10-30   \n",
       "1  tt0113497  When siblings Judy and Peter discover an encha...   1995-12-15   \n",
       "2  tt0113228  A family wedding reignites the ancient feud be...   1995-12-22   \n",
       "3  tt0114885  Cheated on, mistreated and stepped on, the wom...   1995-12-22   \n",
       "4  tt0113041  Just when George Banks has recovered from his ...   1995-02-10   \n",
       "\n",
       "                         title  \n",
       "0                    Toy Story  \n",
       "1                      Jumanji  \n",
       "2             Grumpier Old Men  \n",
       "3            Waiting to Exhale  \n",
       "4  Father of the Bride Part II  "
      ]
     },
     "execution_count": 64,
     "metadata": {},
     "output_type": "execute_result"
    }
   ],
   "source": [
    "movies_cols = ['title', 'overview', 'release_date', 'imdb_id']\n",
    "movies_df = pd.read_csv(MOVIES_CSV, usecols=movies_cols)\n",
    "movies_df.head()"
   ]
  },
  {
   "cell_type": "code",
   "execution_count": 65,
   "id": "aa329990-bc7f-443d-a393-1c12b91c61c3",
   "metadata": {},
   "outputs": [
    {
     "data": {
      "text/html": [
       "<div>\n",
       "<style scoped>\n",
       "    .dataframe tbody tr th:only-of-type {\n",
       "        vertical-align: middle;\n",
       "    }\n",
       "\n",
       "    .dataframe tbody tr th {\n",
       "        vertical-align: top;\n",
       "    }\n",
       "\n",
       "    .dataframe thead th {\n",
       "        text-align: right;\n",
       "    }\n",
       "</style>\n",
       "<table border=\"1\" class=\"dataframe\">\n",
       "  <thead>\n",
       "    <tr style=\"text-align: right;\">\n",
       "      <th></th>\n",
       "      <th>movieId</th>\n",
       "      <th>imdbId</th>\n",
       "      <th>tmdbId</th>\n",
       "      <th>tt</th>\n",
       "      <th>imdb_id</th>\n",
       "      <th>overview</th>\n",
       "      <th>release_date</th>\n",
       "      <th>title</th>\n",
       "    </tr>\n",
       "  </thead>\n",
       "  <tbody>\n",
       "    <tr>\n",
       "      <th>0</th>\n",
       "      <td>2</td>\n",
       "      <td>113497</td>\n",
       "      <td>8844.0</td>\n",
       "      <td>tt0113497</td>\n",
       "      <td>tt0113497</td>\n",
       "      <td>When siblings Judy and Peter discover an encha...</td>\n",
       "      <td>1995-12-15</td>\n",
       "      <td>Jumanji</td>\n",
       "    </tr>\n",
       "    <tr>\n",
       "      <th>1</th>\n",
       "      <td>12</td>\n",
       "      <td>112896</td>\n",
       "      <td>12110.0</td>\n",
       "      <td>tt0112896</td>\n",
       "      <td>tt0112896</td>\n",
       "      <td>When a lawyer shows up at the vampire's doorst...</td>\n",
       "      <td>1995-12-22</td>\n",
       "      <td>Dracula: Dead and Loving It</td>\n",
       "    </tr>\n",
       "    <tr>\n",
       "      <th>2</th>\n",
       "      <td>13</td>\n",
       "      <td>112453</td>\n",
       "      <td>21032.0</td>\n",
       "      <td>tt0112453</td>\n",
       "      <td>tt0112453</td>\n",
       "      <td>An outcast half-wolf risks his life to prevent...</td>\n",
       "      <td>1995-12-22</td>\n",
       "      <td>Balto</td>\n",
       "    </tr>\n",
       "    <tr>\n",
       "      <th>3</th>\n",
       "      <td>14</td>\n",
       "      <td>113987</td>\n",
       "      <td>10858.0</td>\n",
       "      <td>tt0113987</td>\n",
       "      <td>tt0113987</td>\n",
       "      <td>An all-star cast powers this epic look at Amer...</td>\n",
       "      <td>1995-12-22</td>\n",
       "      <td>Nixon</td>\n",
       "    </tr>\n",
       "    <tr>\n",
       "      <th>4</th>\n",
       "      <td>16</td>\n",
       "      <td>112641</td>\n",
       "      <td>524.0</td>\n",
       "      <td>tt0112641</td>\n",
       "      <td>tt0112641</td>\n",
       "      <td>The life of the gambling paradise – Las Vegas ...</td>\n",
       "      <td>1995-11-22</td>\n",
       "      <td>Casino</td>\n",
       "    </tr>\n",
       "  </tbody>\n",
       "</table>\n",
       "</div>"
      ],
      "text/plain": [
       "   movieId  imdbId   tmdbId         tt    imdb_id  \\\n",
       "0        2  113497   8844.0  tt0113497  tt0113497   \n",
       "1       12  112896  12110.0  tt0112896  tt0112896   \n",
       "2       13  112453  21032.0  tt0112453  tt0112453   \n",
       "3       14  113987  10858.0  tt0113987  tt0113987   \n",
       "4       16  112641    524.0  tt0112641  tt0112641   \n",
       "\n",
       "                                            overview release_date  \\\n",
       "0  When siblings Judy and Peter discover an encha...   1995-12-15   \n",
       "1  When a lawyer shows up at the vampire's doorst...   1995-12-22   \n",
       "2  An outcast half-wolf risks his life to prevent...   1995-12-22   \n",
       "3  An all-star cast powers this epic look at Amer...   1995-12-22   \n",
       "4  The life of the gambling paradise – Las Vegas ...   1995-11-22   \n",
       "\n",
       "                         title  \n",
       "0                      Jumanji  \n",
       "1  Dracula: Dead and Loving It  \n",
       "2                        Balto  \n",
       "3                        Nixon  \n",
       "4                       Casino  "
      ]
     },
     "execution_count": 65,
     "metadata": {},
     "output_type": "execute_result"
    }
   ],
   "source": [
    "missing_movies_df = ms_df.merge(movies_df, left_on='tt', right_on='imdb_id')\n",
    "missing_movies_df.head()"
   ]
  },
  {
   "cell_type": "code",
   "execution_count": 66,
   "id": "c87bc23b-5352-4104-915b-675ba452859b",
   "metadata": {},
   "outputs": [
    {
     "data": {
      "text/html": [
       "<div>\n",
       "<style scoped>\n",
       "    .dataframe tbody tr th:only-of-type {\n",
       "        vertical-align: middle;\n",
       "    }\n",
       "\n",
       "    .dataframe tbody tr th {\n",
       "        vertical-align: top;\n",
       "    }\n",
       "\n",
       "    .dataframe thead th {\n",
       "        text-align: right;\n",
       "    }\n",
       "</style>\n",
       "<table border=\"1\" class=\"dataframe\">\n",
       "  <thead>\n",
       "    <tr style=\"text-align: right;\">\n",
       "      <th></th>\n",
       "      <th>movieId</th>\n",
       "      <th>imdbId</th>\n",
       "      <th>tmdbId</th>\n",
       "      <th>tt</th>\n",
       "      <th>imdb_id</th>\n",
       "      <th>overview</th>\n",
       "      <th>release_date</th>\n",
       "      <th>title</th>\n",
       "      <th>id</th>\n",
       "      <th>id_alt</th>\n",
       "    </tr>\n",
       "  </thead>\n",
       "  <tbody>\n",
       "    <tr>\n",
       "      <th>0</th>\n",
       "      <td>2</td>\n",
       "      <td>113497</td>\n",
       "      <td>8844.0</td>\n",
       "      <td>tt0113497</td>\n",
       "      <td>tt0113497</td>\n",
       "      <td>When siblings Judy and Peter discover an encha...</td>\n",
       "      <td>1995-12-15</td>\n",
       "      <td>Jumanji</td>\n",
       "      <td>2</td>\n",
       "      <td>8844</td>\n",
       "    </tr>\n",
       "    <tr>\n",
       "      <th>1</th>\n",
       "      <td>12</td>\n",
       "      <td>112896</td>\n",
       "      <td>12110.0</td>\n",
       "      <td>tt0112896</td>\n",
       "      <td>tt0112896</td>\n",
       "      <td>When a lawyer shows up at the vampire's doorst...</td>\n",
       "      <td>1995-12-22</td>\n",
       "      <td>Dracula: Dead and Loving It</td>\n",
       "      <td>12</td>\n",
       "      <td>12110</td>\n",
       "    </tr>\n",
       "    <tr>\n",
       "      <th>2</th>\n",
       "      <td>13</td>\n",
       "      <td>112453</td>\n",
       "      <td>21032.0</td>\n",
       "      <td>tt0112453</td>\n",
       "      <td>tt0112453</td>\n",
       "      <td>An outcast half-wolf risks his life to prevent...</td>\n",
       "      <td>1995-12-22</td>\n",
       "      <td>Balto</td>\n",
       "      <td>13</td>\n",
       "      <td>21032</td>\n",
       "    </tr>\n",
       "    <tr>\n",
       "      <th>3</th>\n",
       "      <td>14</td>\n",
       "      <td>113987</td>\n",
       "      <td>10858.0</td>\n",
       "      <td>tt0113987</td>\n",
       "      <td>tt0113987</td>\n",
       "      <td>An all-star cast powers this epic look at Amer...</td>\n",
       "      <td>1995-12-22</td>\n",
       "      <td>Nixon</td>\n",
       "      <td>14</td>\n",
       "      <td>10858</td>\n",
       "    </tr>\n",
       "    <tr>\n",
       "      <th>4</th>\n",
       "      <td>16</td>\n",
       "      <td>112641</td>\n",
       "      <td>524.0</td>\n",
       "      <td>tt0112641</td>\n",
       "      <td>tt0112641</td>\n",
       "      <td>The life of the gambling paradise – Las Vegas ...</td>\n",
       "      <td>1995-11-22</td>\n",
       "      <td>Casino</td>\n",
       "      <td>16</td>\n",
       "      <td>524</td>\n",
       "    </tr>\n",
       "  </tbody>\n",
       "</table>\n",
       "</div>"
      ],
      "text/plain": [
       "   movieId  imdbId   tmdbId         tt    imdb_id  \\\n",
       "0        2  113497   8844.0  tt0113497  tt0113497   \n",
       "1       12  112896  12110.0  tt0112896  tt0112896   \n",
       "2       13  112453  21032.0  tt0112453  tt0112453   \n",
       "3       14  113987  10858.0  tt0113987  tt0113987   \n",
       "4       16  112641    524.0  tt0112641  tt0112641   \n",
       "\n",
       "                                            overview release_date  \\\n",
       "0  When siblings Judy and Peter discover an encha...   1995-12-15   \n",
       "1  When a lawyer shows up at the vampire's doorst...   1995-12-22   \n",
       "2  An outcast half-wolf risks his life to prevent...   1995-12-22   \n",
       "3  An all-star cast powers this epic look at Amer...   1995-12-22   \n",
       "4  The life of the gambling paradise – Las Vegas ...   1995-11-22   \n",
       "\n",
       "                         title  id id_alt  \n",
       "0                      Jumanji   2   8844  \n",
       "1  Dracula: Dead and Loving It  12  12110  \n",
       "2                        Balto  13  21032  \n",
       "3                        Nixon  14  10858  \n",
       "4                       Casino  16    524  "
      ]
     },
     "execution_count": 66,
     "metadata": {},
     "output_type": "execute_result"
    }
   ],
   "source": [
    "missing_movies_df['id'] = missing_movies_df['movieId']\n",
    "missing_movies_df['id_alt'] = missing_movies_df['tmdbId'].apply(lambda x: str(int(x)))\n",
    "missing_movies_df.head()"
   ]
  },
  {
   "cell_type": "code",
   "execution_count": 67,
   "id": "58909aed-bfb9-4df1-be77-395b2cd0a560",
   "metadata": {},
   "outputs": [
    {
     "data": {
      "text/html": [
       "<div>\n",
       "<style scoped>\n",
       "    .dataframe tbody tr th:only-of-type {\n",
       "        vertical-align: middle;\n",
       "    }\n",
       "\n",
       "    .dataframe tbody tr th {\n",
       "        vertical-align: top;\n",
       "    }\n",
       "\n",
       "    .dataframe thead th {\n",
       "        text-align: right;\n",
       "    }\n",
       "</style>\n",
       "<table border=\"1\" class=\"dataframe\">\n",
       "  <thead>\n",
       "    <tr style=\"text-align: right;\">\n",
       "      <th></th>\n",
       "      <th>id</th>\n",
       "      <th>id_alt</th>\n",
       "      <th>title</th>\n",
       "    </tr>\n",
       "  </thead>\n",
       "  <tbody>\n",
       "    <tr>\n",
       "      <th>0</th>\n",
       "      <td>2</td>\n",
       "      <td>8844</td>\n",
       "      <td>Jumanji</td>\n",
       "    </tr>\n",
       "    <tr>\n",
       "      <th>1</th>\n",
       "      <td>12</td>\n",
       "      <td>12110</td>\n",
       "      <td>Dracula: Dead and Loving It</td>\n",
       "    </tr>\n",
       "    <tr>\n",
       "      <th>2</th>\n",
       "      <td>13</td>\n",
       "      <td>21032</td>\n",
       "      <td>Balto</td>\n",
       "    </tr>\n",
       "    <tr>\n",
       "      <th>3</th>\n",
       "      <td>14</td>\n",
       "      <td>10858</td>\n",
       "      <td>Nixon</td>\n",
       "    </tr>\n",
       "    <tr>\n",
       "      <th>4</th>\n",
       "      <td>16</td>\n",
       "      <td>524</td>\n",
       "      <td>Casino</td>\n",
       "    </tr>\n",
       "  </tbody>\n",
       "</table>\n",
       "</div>"
      ],
      "text/plain": [
       "   id id_alt                        title\n",
       "0   2   8844                      Jumanji\n",
       "1  12  12110  Dracula: Dead and Loving It\n",
       "2  13  21032                        Balto\n",
       "3  14  10858                        Nixon\n",
       "4  16    524                       Casino"
      ]
     },
     "execution_count": 67,
     "metadata": {},
     "output_type": "execute_result"
    }
   ],
   "source": [
    "final_df = missing_movies_df.copy()[['id', 'id_alt', 'title']]\n",
    "final_df['id_alt'] = final_df['id_alt'].astype(str)\n",
    "final_df.head()"
   ]
  },
  {
   "cell_type": "code",
   "execution_count": 68,
   "id": "3475cfea-975b-40be-a7ef-625b3c700637",
   "metadata": {},
   "outputs": [],
   "source": [
    "alt_id_list = final_df['id_alt'].to_list()"
   ]
  },
  {
   "cell_type": "code",
   "execution_count": 69,
   "id": "fb058625-0dc8-4c69-bcee-76270d868632",
   "metadata": {},
   "outputs": [
    {
     "data": {
      "text/plain": [
       "959"
      ]
     },
     "execution_count": 69,
     "metadata": {},
     "output_type": "execute_result"
    }
   ],
   "source": [
    "#movie_qs = MovieProxy.objects.filter(id__in=alt_id_list)\n",
    "movie_qs.count()"
   ]
  },
  {
   "cell_type": "code",
   "execution_count": 70,
   "id": "7ee2b9ff-a9b8-4f4b-8ae7-2496d412e1e9",
   "metadata": {},
   "outputs": [],
   "source": [
    "from django.forms.models import model_to_dict"
   ]
  },
  {
   "cell_type": "code",
   "execution_count": 71,
   "id": "41ad8200-fa81-46fe-b3d5-ff181a009544",
   "metadata": {},
   "outputs": [],
   "source": [
    "movies_qs = MovieProxy.objects.filter(id__in=alt_id_list)\n",
    "for obj in movies_qs:\n",
    "    data = final_df.copy()[final_df['id_alt'] == str(obj.id)]\n",
    "    if data.shape[0] == 1:\n",
    "        og_model_data = model_to_dict(obj)\n",
    "        update_data = data.to_dict('records')[0]\n",
    "        if obj.title == update_data.get('title'): \n",
    "            #print(og_model_data)\n",
    "            og_model_data['id'] = update_data['id']\n",
    "            new_model_data = {**og_model_data}\n",
    "            #print(new_model_data)\n",
    "            obj.delete()\n",
    "            #MovieProxy.objects.create(**new_model_data)\n",
    "            MovieProxy.objects.create(\n",
    "                id=new_model_data[\"id\"],\n",
    "                parent=new_model_data[\"parent\"], \n",
    "                category=new_model_data[\"category\"], \n",
    "                order=new_model_data[\"order\"], \n",
    "                title=new_model_data[\"title\"], \n",
    "                type=new_model_data[\"type\"], \n",
    "                overview=new_model_data[\"overview\"], \n",
    "                release_date=new_model_data[\"release_date\"],  \n",
    "                slug=new_model_data[\"slug\"], \n",
    "                video=new_model_data[\"video\"], \n",
    "                active=new_model_data[\"active\"], \n",
    "                state=new_model_data[\"state\"], \n",
    "                publish_timestamp=new_model_data[\"publish_timestamp\"], \n",
    "                rating_last_updated=new_model_data[\"rating_last_updated\"], \n",
    "                rating_count=new_model_data[\"rating_count\"], \n",
    "                rating_avg=new_model_data[\"rating_avg\"], \n",
    "            )"
   ]
  },
  {
   "cell_type": "code",
   "execution_count": 72,
   "id": "a4ddb8ac-93e6-49dd-a8f5-fcfd6f24766f",
   "metadata": {},
   "outputs": [
    {
     "name": "stdout",
     "output_type": "stream",
     "text": [
      "Rating update took 0:00:00 (0.0009992122650146484s)\n"
     ]
    }
   ],
   "source": [
    "from ratings.tasks import task_update_movie_ratings\n",
    "task_update_movie_ratings()"
   ]
  },
  {
   "cell_type": "code",
   "execution_count": null,
   "id": "ef1ff05a-95fe-4ec9-b96d-64f18ac0226d",
   "metadata": {},
   "outputs": [],
   "source": []
  }
 ],
 "metadata": {
  "kernelspec": {
   "display_name": "Python 3 (ipykernel)",
   "language": "python",
   "name": "python3"
  },
  "language_info": {
   "codemirror_mode": {
    "name": "ipython",
    "version": 3
   },
   "file_extension": ".py",
   "mimetype": "text/x-python",
   "name": "python",
   "nbconvert_exporter": "python",
   "pygments_lexer": "ipython3",
   "version": "3.12.4"
  }
 },
 "nbformat": 4,
 "nbformat_minor": 5
}
